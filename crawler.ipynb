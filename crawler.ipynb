{
 "cells": [
  {
   "cell_type": "code",
   "execution_count": 1,
   "metadata": {},
   "outputs": [
    {
     "name": "stdout",
     "output_type": "stream",
     "text": [
      "200\n"
     ]
    }
   ],
   "source": [
    "import requests\n",
    "import pandas as pd\n",
    "import time \n",
    "import json\n",
    "pd.set_option('display.max_rows',None) #显示多少行\n",
    "pd.set_option('display.max_columns', None)   #显示多少列\n",
    "\n",
    "# 爬取\n",
    "headers = {\n",
    "    'user-agent': 'Mozilla/5.0 (Windows NT 6.1; Win64; x64) AppleWebKit/537.36 (KHTML, like Gecko) Chrome/80.0.3987.149 Safari/537.36'\n",
    "}\n",
    "url = 'https://c.m.163.com/ug/api/wuhan/app/data/list-total'  \n",
    "r = requests.get(url, headers=headers) \n",
    "print(r.status_code) \n",
    "data_json = json.loads(r.text)\n",
    "data = data_json['data']\n",
    "\n",
    "# 提取数据\n",
    "def get_data(data, info_list):\n",
    "    info = pd.DataFrame(data)[info_list] \n",
    "    today_data = pd.DataFrame([i['today'] for i in data])\n",
    "    today_data.columns = ['today_' + i for i in today_data.columns]  # 由于today中键名和total键名相同，修改列名称\n",
    "    total_data = pd.DataFrame([i['total'] for i in data]) \n",
    "    total_data.columns = ['total_' + i for i in total_data.columns]  \n",
    "    return pd.concat([info, total_data, today_data], axis=1)  \n",
    "\n",
    "# 保存数据\n",
    "def save_data(data,name):\n",
    "    file_name = name+'_'+time.strftime('%Y_%m_%d',time.localtime(time.time()))+'.csv'\n",
    "    data.to_csv(file_name,index=None,encoding='utf_8_sig')\n",
    "    print(file_name+' 保存成功！')\n",
    "\n",
    "areaTree = data[\"areaTree\"]"
   ]
  },
  {
   "cell_type": "code",
   "execution_count": 2,
   "metadata": {},
   "outputs": [
    {
     "name": "stdout",
     "output_type": "stream",
     "text": [
      "today_world_2021_04_12.csv 保存成功！\n"
     ]
    }
   ],
   "source": [
    "# 功能：传递参数 保存全球当日疫情数据\n",
    "today_world = get_data(areaTree,['id','lastUpdateTime','name'])\n",
    "save_data(today_world,'today_world')"
   ]
  },
  {
   "cell_type": "code",
   "execution_count": null,
   "metadata": {},
   "outputs": [],
   "source": [
    "#中国各省实时数据提取\n",
    "today_province = get_data(data_province,['id','lastUpdateTime','name'])\n",
    "save_data(today_province,'today_province')"
   ]
  },
  {
   "cell_type": "code",
   "execution_count": null,
   "metadata": {},
   "outputs": [],
   "source": [
    "#中国各省历史数据提取\n",
    "alltime_China = get_data(chinaDayList,['date','lastUpdateTime'])\n",
    "save_data(alltime_China,'alltime_China')"
   ]
  },
  {
   "cell_type": "code",
   "execution_count": null,
   "metadata": {},
   "outputs": [],
   "source": [
    "#各国历史数据爬取\n",
    "today_world = get_data(areaTree,['id','lastUpdateTime','name'])\n",
    "country_dict = {key:value for key,value in zip(today_world['id'], today_world['name'])}\n",
    "start = time.time()\n",
    "for country_id in country_dict:  # 遍历每个国家的编号\n",
    "    try:\n",
    "        url = 'https://c.m.163.com/ug/api/wuhan/app/data/list-by-area-code?areaCode=' + country_id\n",
    "        r = requests.get(url, headers=headers)\n",
    "        json_data = json.loads(r.text)\n",
    "        country_data = get_data(json_data['data']['list'], ['date'])\n",
    "        country_data['name'] = country_dict[country_id]\n",
    "        if country_id == '9577772':\n",
    "            alltime_world = country_data\n",
    "        else:\n",
    "            alltime_world = pd.concat([alltime_world, country_data])\n",
    "        print('-' * 20, country_dict[country_id], '成功', country_data.shape, alltime_world.shape,\n",
    "              ',累计耗时:', round(time.time() - start), '-' * 20)\n",
    "        time.sleep(20) \n",
    "    except:\n",
    "        print('-' * 20, country_dict[country_id], 'wrong', '-' * 20)\n",
    "        \n",
    "save_data(alltime_world,'historytime_world')"
   ]
  }
 ],
 "metadata": {
  "kernelspec": {
   "display_name": "Python 3",
   "language": "python",
   "name": "python3"
  },
  "language_info": {
   "codemirror_mode": {
    "name": "ipython",
    "version": 3
   },
   "file_extension": ".py",
   "mimetype": "text/x-python",
   "name": "python",
   "nbconvert_exporter": "python",
   "pygments_lexer": "ipython3",
   "version": "3.8.5"
  }
 },
 "nbformat": 4,
 "nbformat_minor": 4
}
